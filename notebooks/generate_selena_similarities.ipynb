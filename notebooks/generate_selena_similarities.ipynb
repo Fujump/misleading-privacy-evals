{
 "cells": [
  {
   "cell_type": "code",
   "id": "initial_id",
   "metadata": {
    "collapsed": true
   },
   "source": [
    "import open_clip\n",
    "import torch.utils.data\n",
    "import torchvision\n",
    "import tqdm\n"
   ],
   "outputs": [],
   "execution_count": null
  },
  {
   "cell_type": "code",
   "source": [
    "import dotenv\n",
    "import os\n",
    "import sys\n",
    "import pathlib\n",
    "\n",
    "# Load environment variables\n",
    "dotenv.load_dotenv()\n",
    "\n",
    "# Enable loading of the project module\n",
    "MODULE_DIR = os.path.join(os.path.abspath(os.path.join(os.path.curdir, os.path.pardir)), 'src')\n",
    "sys.path.append(MODULE_DIR)\n"
   ],
   "metadata": {
    "collapsed": false
   },
   "id": "3a8a9212c26f97d5",
   "outputs": [],
   "execution_count": null
  },
  {
   "cell_type": "code",
   "source": [
    "import data"
   ],
   "metadata": {
    "collapsed": false
   },
   "id": "ef4e01f414879a97",
   "outputs": [],
   "execution_count": null
  },
  {
   "cell_type": "code",
   "source": [
    "model, _, preprocess = open_clip.create_model_and_transforms(\n",
    "    \"ViT-SO400M-14-SigLIP-384\",\n",
    "    pretrained='webli',\n",
    "    device='cuda',\n",
    ")"
   ],
   "metadata": {
    "collapsed": false
   },
   "id": "13f7c7a2072ffbe3",
   "outputs": [],
   "execution_count": null
  },
  {
   "cell_type": "code",
   "source": [
    "data_generator = data.DatasetGenerator(\n",
    "    num_shadow=64,\n",
    "    num_canaries=500,\n",
    "    canary_type=data.CanaryType.LABEL_NOISE,\n",
    "    num_poison=0,\n",
    "    poison_type=data.PoisonType.CANARY_DUPLICATES,\n",
    "    data_dir=pathlib.Path(os.environ.get(\"DATA_ROOT\")),\n",
    "    seed=0,\n",
    "    download=False,\n",
    ")\n",
    "\n",
    "# shadow model index only matters for membership, hence can use any\n",
    "full_data, membership_mask_any, canary_mask, poison_mask = data_generator.build_train_data_full_with_poison(shadow_model_idx=0)\n",
    "canary_indices = data_generator.get_canary_indices()"
   ],
   "metadata": {
    "collapsed": false
   },
   "id": "2b304a879dc71c6",
   "outputs": [],
   "execution_count": null
  },
  {
   "cell_type": "code",
   "source": [
    "embeddings = torch.zeros((len(full_data), 1152), dtype=torch.float32)\n",
    "assert not poison_mask.any()\n",
    "for sample_idx in tqdm.notebook.trange(len(full_data), unit=\"image\", desc=\"Encoding dataset\"):\n",
    "    image = torchvision.transforms.functional.to_pil_image(full_data[sample_idx][0])\n",
    "    with torch.no_grad():\n",
    "        embedding = model.encode_image(preprocess(image).unsqueeze(0).to(\"cuda\")).cpu()\n",
    "    embeddings[sample_idx] = embedding\n",
    "torch.save(embeddings, \"embeddings.pt\")\n"
   ],
   "metadata": {
    "collapsed": false
   },
   "id": "b4b73b5004739adf",
   "outputs": [],
   "execution_count": null
  }
 ],
 "metadata": {
  "kernelspec": {
   "display_name": "Python 3",
   "language": "python",
   "name": "python3"
  },
  "language_info": {
   "codemirror_mode": {
    "name": "ipython",
    "version": 2
   },
   "file_extension": ".py",
   "mimetype": "text/x-python",
   "name": "python",
   "nbconvert_exporter": "python",
   "pygments_lexer": "ipython2",
   "version": "2.7.6"
  }
 },
 "nbformat": 4,
 "nbformat_minor": 5
}
